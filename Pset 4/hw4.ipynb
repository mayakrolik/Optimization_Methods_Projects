{
 "cells": [
  {
   "cell_type": "markdown",
   "metadata": {},
   "source": [
    "# Pset 4"
   ]
  },
  {
   "cell_type": "code",
   "execution_count": 76,
   "metadata": {},
   "outputs": [],
   "source": [
    "using DataFrames, CSV\n",
    "using JuMP, Gurobi\n",
    "using LinearAlgebra, Random, Printf, StatsBase, CategoricalArrays\n",
    "using Plots, StatsPlots\n",
    "using Distributions"
   ]
  },
  {
   "cell_type": "code",
   "execution_count": 77,
   "metadata": {},
   "outputs": [
    {
     "name": "stderr",
     "output_type": "stream",
     "text": [
      "WARNING: redefinition of constant Main.GRB_ENV. This may fail, cause incorrect answers, or produce other errors.\n"
     ]
    }
   ],
   "source": [
    "const GRB_ENV = Gurobi.Env(output_flag=0);"
   ]
  },
  {
   "cell_type": "code",
   "execution_count": 114,
   "metadata": {},
   "outputs": [
    {
     "name": "stdout",
     "output_type": "stream",
     "text": [
      "[65.34564412755189, 46.975898434445725, 201.45602729941479, 25.250772992020554, 196.78632375277724, 50.144830986003555, 30.06603532913156, 81.5939614380697, 83.62967824349536, 71.52260340118428, 45.520944342391395, 93.62118168471744, 7.859779072506969, 49.92747178980714, 13.148411972669551, 60.16848463801613, 131.18357389529552, 118.77846387222779, 50.86192989336156, 84.47463261765012]\n",
      "(20,)\n",
      "20\n",
      "50\n",
      "500\n",
      "[0.002, 0.002, 0.002, 0.002, 0.002, 0.002, 0.002, 0.002, 0.002, 0.002, 0.002, 0.002, 0.002, 0.002, 0.002, 0.002, 0.002, 0.002, 0.002, 0.002, 0.002, 0.002, 0.002, 0.002, 0.002, 0.002, 0.002, 0.002, 0.002, 0.002, 0.002, 0.002, 0.002, 0.002, 0.002, 0.002, 0.002, 0.002, 0.002, 0.002, 0.002, 0.002, 0.002, 0.002, 0.002, 0.002, 0.002, 0.002, 0.002, 0.002, 0.002, 0.002, 0.002, 0.002, 0.002, 0.002, 0.002, 0.002, 0.002, 0.002, 0.002, 0.002, 0.002, 0.002, 0.002, 0.002, 0.002, 0.002, 0.002, 0.002, 0.002, 0.002, 0.002, 0.002, 0.002, 0.002, 0.002, 0.002, 0.002, 0.002, 0.002, 0.002, 0.002, 0.002, 0.002, 0.002, 0.002, 0.002, 0.002, 0.002, 0.002, 0.002, 0.002, 0.002, 0.002, 0.002, 0.002, 0.002, 0.002, 0.002, 0.002, 0.002, 0.002, 0.002, 0.002, 0.002, 0.002, 0.002, 0.002, 0.002, 0.002, 0.002, 0.002, 0.002, 0.002, 0.002, 0.002, 0.002, 0.002, 0.002, 0.002, 0.002, 0.002, 0.002, 0.002, 0.002, 0.002, 0.002, 0.002, 0.002, 0.002, 0.002, 0.002, 0.002, 0.002, 0.002, 0.002, 0.002, 0.002, 0.002, 0.002, 0.002, 0.002, 0.002, 0.002, 0.002, 0.002, 0.002, 0.002, 0.002, 0.002, 0.002, 0.002, 0.002, 0.002, 0.002, 0.002, 0.002, 0.002, 0.002, 0.002, 0.002, 0.002, 0.002, 0.002, 0.002, 0.002, 0.002, 0.002, 0.002, 0.002, 0.002, 0.002, 0.002, 0.002, 0.002, 0.002, 0.002, 0.002, 0.002, 0.002, 0.002, 0.002, 0.002, 0.002, 0.002, 0.002, 0.002, 0.002, 0.002, 0.002, 0.002, 0.002, 0.002, 0.002, 0.002, 0.002, 0.002, 0.002, 0.002, 0.002, 0.002, 0.002, 0.002, 0.002, 0.002, 0.002, 0.002, 0.002, 0.002, 0.002, 0.002, 0.002, 0.002, 0.002, 0.002, 0.002, 0.002, 0.002, 0.002, 0.002, 0.002, 0.002, 0.002, 0.002, 0.002, 0.002, 0.002, 0.002, 0.002, 0.002, 0.002, 0.002, 0.002, 0.002, 0.002, 0.002, 0.002, 0.002, 0.002, 0.002, 0.002, 0.002, 0.002, 0.002, 0.002, 0.002, 0.002, 0.002, 0.002, 0.002, 0.002, 0.002, 0.002, 0.002, 0.002, 0.002, 0.002, 0.002, 0.002, 0.002, 0.002, 0.002, 0.002, 0.002, 0.002, 0.002, 0.002, 0.002, 0.002, 0.002, 0.002, 0.002, 0.002, 0.002, 0.002, 0.002, 0.002, 0.002, 0.002, 0.002, 0.002, 0.002, 0.002, 0.002, 0.002, 0.002, 0.002, 0.002, 0.002, 0.002, 0.002, 0.002, 0.002, 0.002, 0.002, 0.002, 0.002, 0.002, 0.002, 0.002, 0.002, 0.002, 0.002, 0.002, 0.002, 0.002, 0.002, 0.002, 0.002, 0.002, 0.002, 0.002, 0.002, 0.002, 0.002, 0.002, 0.002, 0.002, 0.002, 0.002, 0.002, 0.002, 0.002, 0.002, 0.002, 0.002, 0.002, 0.002, 0.002, 0.002, 0.002, 0.002, 0.002, 0.002, 0.002, 0.002, 0.002, 0.002, 0.002, 0.002, 0.002, 0.002, 0.002, 0.002, 0.002, 0.002, 0.002, 0.002, 0.002, 0.002, 0.002, 0.002, 0.002, 0.002, 0.002, 0.002, 0.002, 0.002, 0.002, 0.002, 0.002, 0.002, 0.002, 0.002, 0.002, 0.002, 0.002, 0.002, 0.002, 0.002, 0.002, 0.002, 0.002, 0.002, 0.002, 0.002, 0.002, 0.002, 0.002, 0.002, 0.002, 0.002, 0.002, 0.002, 0.002, 0.002, 0.002, 0.002, 0.002, 0.002, 0.002, 0.002, 0.002, 0.002, 0.002, 0.002, 0.002, 0.002, 0.002, 0.002, 0.002, 0.002, 0.002, 0.002, 0.002, 0.002, 0.002, 0.002, 0.002, 0.002, 0.002, 0.002, 0.002, 0.002, 0.002, 0.002, 0.002, 0.002, 0.002, 0.002, 0.002, 0.002, 0.002, 0.002, 0.002, 0.002, 0.002, 0.002, 0.002, 0.002, 0.002, 0.002, 0.002, 0.002, 0.002, 0.002, 0.002, 0.002, 0.002, 0.002, 0.002, 0.002, 0.002, 0.002, 0.002, 0.002, 0.002, 0.002, 0.002, 0.002, 0.002, 0.002, 0.002, 0.002, 0.002, 0.002, 0.002, 0.002, 0.002, 0.002, 0.002, 0.002, 0.002, 0.002, 0.002, 0.002, 0.002, 0.002, 0.002, 0.002, 0.002, 0.002, 0.002, 0.002, 0.002, 0.002, 0.002, 0.002, 0.002, 0.002, 0.002, 0.002, 0.002, 0.002, 0.002, 0.002, 0.002, 0.002, 0.002, 0.002, 0.002, 0.002, 0.002, 0.002, 0.002, 0.002, 0.002, 0.002, 0.002]\n",
      "(500,)"
     ]
    }
   ],
   "source": [
    "demand = CSV.read(\"data/demand.csv\", DataFrame)[:, 2:501]\n",
    "facilities = CSV.read(\"data/facilities.csv\", DataFrame)\n",
    "production = CSV.read(\"data/production.csv\", DataFrame)\n",
    "transportation = CSV.read(\"data/transportation.csv\", DataFrame)\n",
    "zones = CSV.read(\"data/zones.csv\", DataFrame)\n",
    "\n",
    "\n",
    "num_facilities = size(facilities, 1)\n",
    "num_customers = size(demand, 1)\n",
    "num_scenarios = size(demand, 2)\n",
    "\n",
    "c_j = Vector(facilities.cost)\n",
    "C_j = Vector(facilities.capacity)\n",
    "t_ij = Matrix(transportation)\n",
    "u_i = Vector(zones.unmet)\n",
    "D_is = Matrix(demand)\n",
    "q_js = Matrix(production)\n",
    "\n",
    "p = 1/num_scenarios * ones(num_scenarios)\n",
    "\n",
    "println(facilities.cost)\n",
    "println(size(facilities.cost))\n",
    "println(num_facilities)\n",
    "println(num_customers)\n",
    "println(num_scenarios)\n",
    "println(p)\n",
    "print(size(p))"
   ]
  },
  {
   "cell_type": "code",
   "execution_count": null,
   "metadata": {},
   "outputs": [
    {
     "ename": "LoadError",
     "evalue": "MethodError: no method matching *(::String31, ::VariableRef)\n\n\u001b[0mClosest candidates are:\n\u001b[0m  *(::Any, ::Any, \u001b[91m::Any\u001b[39m, \u001b[91m::Any...\u001b[39m)\n\u001b[0m\u001b[90m   @\u001b[39m \u001b[90mBase\u001b[39m \u001b[90m\u001b[4moperators.jl:587\u001b[24m\u001b[39m\n\u001b[0m  *(\u001b[91m::ChainRulesCore.NotImplemented\u001b[39m, ::Any)\n\u001b[0m\u001b[90m   @\u001b[39m \u001b[32mChainRulesCore\u001b[39m \u001b[90m~/.julia/packages/ChainRulesCore/6Pucz/src/\u001b[39m\u001b[90m\u001b[4mtangent_arithmetic.jl:37\u001b[24m\u001b[39m\n\u001b[0m  *(::Any, \u001b[91m::ChainRulesCore.NotImplemented\u001b[39m)\n\u001b[0m\u001b[90m   @\u001b[39m \u001b[32mChainRulesCore\u001b[39m \u001b[90m~/.julia/packages/ChainRulesCore/6Pucz/src/\u001b[39m\u001b[90m\u001b[4mtangent_arithmetic.jl:38\u001b[24m\u001b[39m\n\u001b[0m  ...\n",
     "output_type": "error",
     "traceback": [
      "MethodError: no method matching *(::String31, ::VariableRef)\n\n\u001b[0mClosest candidates are:\n\u001b[0m  *(::Any, ::Any, \u001b[91m::Any\u001b[39m, \u001b[91m::Any...\u001b[39m)\n\u001b[0m\u001b[90m   @\u001b[39m \u001b[90mBase\u001b[39m \u001b[90m\u001b[4moperators.jl:587\u001b[24m\u001b[39m\n\u001b[0m  *(\u001b[91m::ChainRulesCore.NotImplemented\u001b[39m, ::Any)\n\u001b[0m\u001b[90m   @\u001b[39m \u001b[32mChainRulesCore\u001b[39m \u001b[90m~/.julia/packages/ChainRulesCore/6Pucz/src/\u001b[39m\u001b[90m\u001b[4mtangent_arithmetic.jl:37\u001b[24m\u001b[39m\n\u001b[0m  *(::Any, \u001b[91m::ChainRulesCore.NotImplemented\u001b[39m)\n\u001b[0m\u001b[90m   @\u001b[39m \u001b[32mChainRulesCore\u001b[39m \u001b[90m~/.julia/packages/ChainRulesCore/6Pucz/src/\u001b[39m\u001b[90m\u001b[4mtangent_arithmetic.jl:38\u001b[24m\u001b[39m\n\u001b[0m  ...\n",
      "",
      "Stacktrace:",
      " [1] operate(::typeof(*), ::String31, ::VariableRef)",
      "   @ MutableArithmetics ~/.julia/packages/MutableArithmetics/OfRUD/src/interface.jl:210",
      " [2] operate(::typeof(MutableArithmetics.add_mul), ::MutableArithmetics.Zero, ::String31, ::VariableRef)",
      "   @ MutableArithmetics ~/.julia/packages/MutableArithmetics/OfRUD/src/rewrite.jl:43",
      " [3] operate_fallback!!(::MutableArithmetics.IsNotMutable, ::typeof(MutableArithmetics.add_mul), ::MutableArithmetics.Zero, ::String31, ::VariableRef)",
      "   @ MutableArithmetics ~/.julia/packages/MutableArithmetics/OfRUD/src/interface.jl:624",
      " [4] operate!!(::typeof(MutableArithmetics.add_mul), ::MutableArithmetics.Zero, ::String31, ::VariableRef)",
      "   @ MutableArithmetics ~/.julia/packages/MutableArithmetics/OfRUD/src/rewrite.jl:112",
      " [5] macro expansion",
      "   @ ~/.julia/packages/MutableArithmetics/OfRUD/src/rewrite_generic.jl:268 [inlined]",
      " [6] macro expansion",
      "   @ ~/.julia/packages/MutableArithmetics/OfRUD/src/rewrite.jl:340 [inlined]",
      " [7] macro expansion",
      "   @ ~/.julia/packages/JuMP/PKxEW/src/macros.jl:257 [inlined]",
      " [8] macro expansion",
      "   @ ~/.julia/packages/JuMP/PKxEW/src/macros/@objective.jl:66 [inlined]",
      " [9] top-level scope",
      "   @ ./In[121]:15"
     ]
    }
   ],
   "source": [
    "# CSV.File(\"unmet_demand_cost.csv\",header=0) \n",
    "demand = CSV.File(\"data/demand.csv\", header=0)|> Tables.matrix;\n",
    "facilities = CSV.File(\"data/facilities.csv\", header=0)|> Tables.matrix;\n",
    "production = CSV.File(\"data/production.csv\", header=0)|> Tables.matrix;\n",
    "transportation = CSV.File(\"data/transportation.csv\", header=0)|> Tables.matrix;\n",
    "zones = CSV.File(\"data/zones.csv\", header=0)|> Tables.matrix;\n",
    "\n",
    "model = Model(() -> Gurobi.Optimizer(GRB_ENV))\n",
    "\n",
    "@variable(model, x[1:20], Bin)\n",
    "@variable(model, y[1:20, 1:500] >= 0)\n",
    "@variable(model, z[1:50, 1:20, 1:500] >= 0)\n",
    "@variable(model, e[1:50, 1:500] >= 0)\n",
    "\n",
    "@objective(model, Min,\n",
    "sum(facilities[j, 1] * x[j] for j in 1:20) + # Fixed facility costs\n",
    "    1/500 * sum(sum(production[j, s] * y[j, s] for j in 1:20) + # Production costs\n",
    "    sum(sum(transportation[i, j] * z[i, j, s] for j in 1:20) for i in 1:50) + #\n",
    "    sum(zones[i, 1] * e[i, s] for i in 1:50) # Unmet demand costs\n",
    "    for s in 1:500))\n",
    "# Facility production constraint\n",
    "@constraint(model, [j=1:20, s=1:500], y[j, s] <= facilities[j, 2] * x[j])\n",
    "# Demand fulfillment constraint\n",
    "@constraint(model, [i=1:50, s=1:500], sum(z[i, j, s] for j in 1:20) + e[i, s] == demand[i, s])\n",
    "# Transportation constraint\n",
    "@constraint(model, [j=1:20, s=1:500], sum(z[i, j, s] for i in 1:50) <= y[j, s])\n",
    "optimize!(model)\n",
    "println(\"Optimal objective value: \", objective_value(model))"
   ]
  },
  {
   "cell_type": "code",
   "execution_count": 120,
   "metadata": {},
   "outputs": [
    {
     "name": "stdout",
     "output_type": "stream",
     "text": [
      "1250.1861721981154\n"
     ]
    }
   ],
   "source": [
    "model = Model(() -> Gurobi.Optimizer(GRB_ENV))\n",
    "\n",
    "@variable(model, x[1:num_facilities], Bin)\n",
    "@variable(model, b[1:num_customers, 1:num_scenarios] >= 0) #unmet demand e\n",
    "@variable(model, c[1:num_customers, 1:num_facilities, 1:num_scenarios] >= 0) #quantity shipped z\n",
    "@variable(model, a[1:num_facilities, 1:num_scenarios] >= 0) # y\n",
    "\n",
    "@objective(model, Min,\n",
    "    sum(c_j[j] * x[j] for j in 1:20) + # Fixed facility costs\n",
    "    1/500 * sum(\n",
    "    sum(q_js[j, s] * a[j, s] for j in 1:20) + # Production costs\n",
    "    sum(sum(t_ij[i, j] * c[i, j, s] for j in 1:20) for i in 1:50) + #\n",
    "    sum(u_i[i] * b[i, s] for i in 1:50) # Unmet demand costs\n",
    "    for s in 1:500))\n",
    "\n",
    "# @objective(model, Min, sum(c_j[j] * x[j] for j in 1:num_facilities + 1/num_scenarios * sum(\n",
    "#     sum(q_js[j, s] * a[j, s] for j in 1:num_facilities)\n",
    "#     + sum(sum(t_ij[i, j] * c[i, j, s] for j in 1:num_facilities) for i in 1:num_customers) +\n",
    "#     sum(u_i[i] * b[i, s] for i in 1:num_customers) for s in 1:num_scenarios)))\n",
    "\n",
    "@constraint(model, [j in 1:num_facilities, s in 1:num_scenarios], a[j, s] <= C_j[j] * x[j])\n",
    "@constraint(model, [i in 1:num_customers, s in 1:num_scenarios], sum(c[i, j, s] for j in 1:num_facilities) + b[i, s] == D_is[i, s])\n",
    "@constraint(model, [j in 1:num_facilities, s in 1:num_scenarios], sum(c[i, j, s] for i in 1:num_customers) <= a[j, s])\n",
    "\n",
    "optimize!(model)\n",
    "println(objective_value(model))"
   ]
  },
  {
   "cell_type": "code",
   "execution_count": 100,
   "metadata": {},
   "outputs": [
    {
     "name": "stdout",
     "output_type": "stream",
     "text": [
      "Optimal Objective Value: 1250.186172198513\n"
     ]
    }
   ],
   "source": [
    "model = Model(() -> Gurobi.Optimizer(GRB_ENV))\n",
    "\n",
    "# First-stage decision variable: whether to build facility j\n",
    "@variable(model, x[1:num_facilities], Bin)\n",
    "\n",
    "# Second-stage decision variables: production and unmet demand\n",
    "@variable(model, a[1:num_facilities, 1:num_scenarios] >= 0)  # production at facility j in scenario s\n",
    "@variable(model, b[1:num_customers, 1:num_scenarios] >= 0)   # unmet demand for customer i in scenario s\n",
    "@variable(model, c[1:num_customers, 1:num_facilities, 1:num_scenarios] >= 0)  # quantity shipped\n",
    "\n",
    "# Objective function: minimize total costs\n",
    "@objective(model, Min,\n",
    "    sum(c_j[j] * x[j] for j in 1:num_facilities) +  # construction cost\n",
    "    sum(p[s] * q_js[j, s] * a[j, s] for j in 1:num_facilities, s in 1:num_scenarios) +  # production cost\n",
    "    sum(p[s] * t_ij[i, j] * c[i, j, s] for i in 1:num_customers, j in 1:num_facilities, s in 1:num_scenarios) +  # transportation cost\n",
    "    sum(p[s] * u_i[i] * b[i, s] for i in 1:num_customers, s in 1:num_scenarios)  # unmet demand cost\n",
    ")\n",
    "\n",
    "# @objective(model, Min,\n",
    "#     sum(c_j[j] * x[j] for j in 1:num_facilities) +  # construction cost\n",
    "#     1/num_scenarios * sum((sum(q_js[j, s] * a[j, s] for j in 1:num_facilities) + sum(t_ij[i, j] * c[i, j, s] for i in 1:num_customers, j in 1:num_facilities)+ sum(u_i[i] * b[i, s] for i in 1:num_customers)) for s in 1:num_scenarios )\n",
    "#     #  +  # production cost\n",
    "#     #  +  # transportation cost\n",
    "#     #   # unmet demand cost\n",
    "# )\n",
    "\n",
    "# Capacity constraint: each facility's production cannot exceed its capacity if built\n",
    "@constraint(model, [j in 1:num_facilities, s in 1:num_scenarios], a[j, s] <= C_j[j] * x[j])\n",
    "\n",
    "# Demand satisfaction: each customer's demand must be met by the sum of shipments and unmet demand\n",
    "@constraint(model, [i in 1:num_customers, s in 1:num_scenarios], sum(c[i, j, s] for j in 1:num_facilities) + b[i, s] == D_is[i, s])\n",
    "\n",
    "# Production allocation: quantity shipped from facility to customers cannot exceed production\n",
    "@constraint(model, [j in 1:num_facilities, s in 1:num_scenarios], sum(c[i, j, s] for i in 1:num_customers) <= a[j, s])\n",
    "\n",
    "optimize!(model)\n",
    "\n",
    "\n",
    "adaptive_cost = objective_value(model)\n",
    "println(\"Optimal Objective Value: \", adaptive_cost)\n",
    "# println(\"Facility construction decisions: \", value.(x))\n",
    "# println(\"Production levels per facility per scenario: \", value.(a))\n",
    "# println(\"Unmet demand per customer per scenario: \", value.(b))"
   ]
  },
  {
   "cell_type": "markdown",
   "metadata": {},
   "source": [
    "### Compute Benchmarks\n",
    "\n",
    "#### Deterministic"
   ]
  },
  {
   "cell_type": "code",
   "execution_count": 103,
   "metadata": {},
   "outputs": [
    {
     "name": "stdout",
     "output_type": "stream",
     "text": [
      "Total number of facilities constructed is 9.0\n",
      "The cost is 749.0994844684311\n"
     ]
    }
   ],
   "source": [
    "deterministic = Model(() -> Gurobi.Optimizer(GRB_ENV))\n",
    "\n",
    "@variable(deterministic, x[1:num_facilities], Bin)\n",
    "\n",
    "# Second-stage decision variables: production and unmet demand\n",
    "@variable(deterministic, a[1:num_facilities] >= 0)  # production at facility j in scenario s\n",
    "@variable(deterministic, b[1:num_customers] >= 0)   # unmet demand for customer i in scenario s\n",
    "@variable(deterministic, c[1:num_customers, j=1:num_facilities] >= 0)  # quantity shipped\n",
    "\n",
    "\n",
    "# avg_production_cost = [mean(q_js[j,:]) for j in 1:num_facilities]\n",
    "avg_production_cost = mean(q_js, dims=2)\n",
    "avg_demand = mean(D_is, dims=2)\n",
    "\n",
    "# Capacity constraint: each facility's production cannot exceed its capacity if built\n",
    "@constraint(deterministic, [j in 1:num_facilities], a[j] <= C_j[j] * x[j])\n",
    "\n",
    "# Demand satisfaction: each customer's demand must be met by the sum of shipments and unmet demand\n",
    "@constraint(deterministic, [i in 1:num_customers], sum(c[i, j] for j in 1:num_facilities) + b[i] >= avg_demand[i])\n",
    "\n",
    "# Production allocation: quantity shipped from facility to customers cannot exceed production\n",
    "@constraint(deterministic, [j in 1:num_facilities], sum(c[i, j] for i in 1:num_customers) <= a[j])\n",
    "\n",
    "\n",
    "\n",
    "@objective(deterministic, Min,\n",
    "    sum(c_j[j] * x[j] for j in 1:num_facilities) +  # construction cost\n",
    "    sum(avg_production_cost[j] * a[j] for j in 1:num_facilities) +  # production cost\n",
    "    sum(t_ij[i, j] * c[i, j] for i in 1:num_customers, j in 1:num_facilities) +  # transportation cost\n",
    "    sum(u_i[i] * b[i] for i in 1:num_customers)  # unmet demand cost\n",
    ")\n",
    "\n",
    "optimize!(deterministic)\n",
    "facility_EV = value.(x)\n",
    "println(\"Total number of facilities constructed is \", sum(facility_EV))\n",
    "println(\"The cost is \", objective_value(deterministic))"
   ]
  },
  {
   "cell_type": "code",
   "execution_count": 104,
   "metadata": {},
   "outputs": [
    {
     "name": "stdout",
     "output_type": "stream",
     "text": [
      "The deterministic cost is 1371.1774064649157\n"
     ]
    }
   ],
   "source": [
    "cost_scenario = zeros(num_scenarios);\n",
    "transport_EV = zeros(num_customers, num_facilities, num_scenarios);\n",
    "unmet_EV = zeros(num_customers, num_scenarios);\n",
    "    \n",
    "for s in 1:num_scenarios\n",
    "    model = Model(() -> Gurobi.Optimizer(GRB_ENV))\n",
    "\n",
    "    @variable(model, a[1:num_facilities] >= 0)  # production at facility j in scenario s\n",
    "    @variable(model, b[1:num_customers] >= 0) #z\n",
    "    @variable(model, c[1:num_customers, 1:num_facilities] >= 0) #y\n",
    "    \n",
    "    # Capacity constraint: each facility's production cannot exceed its capacity if built\n",
    "    @constraint(model, [j in 1:num_facilities], a[j] <= C_j[j] * facility_EV[j])\n",
    "\n",
    "    # Demand satisfaction: each customer's demand must be met by the sum of shipments and unmet demand\n",
    "    @constraint(model, [i in 1:num_customers], sum(c[i, j] for j in 1:num_facilities) + b[i] >= D_is[i, s])\n",
    "\n",
    "    # Production allocation: quantity shipped from facility to customers cannot exceed production\n",
    "    @constraint(model, [j in 1:num_facilities], sum(c[i, j] for i in 1:num_customers) <= a[j])\n",
    "        \n",
    "    @objective(model, Min,\n",
    "                sum(c_j[j] * facility_EV[j] for j in 1:num_facilities) +                   # construction cost\n",
    "                sum(t_ij[i,j] * c[i,j] for j in 1:num_facilities, i in 1:num_customers) +  # transporation cost\n",
    "                sum(u_i[i] * b[i] for i in 1:num_customers)) +                          # unmet demand cost\n",
    "                sum(a[j] * facility_EV[j] for j=1:num_facilities)                  # production cost\n",
    "\n",
    "    optimize!(model)\n",
    "\n",
    "    cost_scenario[s] = objective_value(model);\n",
    "    transport_EV[:,:,s] = value.(c);\n",
    "    unmet_EV[:,s] = value.(b);\n",
    "end\n",
    "    \n",
    "exp_cost_EV = sum(p[s] * cost_scenario[s] for s in 1:num_scenarios)\n",
    "println(\"The deterministic cost is \", exp_cost_EV)"
   ]
  },
  {
   "cell_type": "markdown",
   "metadata": {},
   "source": [
    "#### Stochastic"
   ]
  },
  {
   "cell_type": "code",
   "execution_count": 82,
   "metadata": {},
   "outputs": [
    {
     "name": "stdout",
     "output_type": "stream",
     "text": [
      "The wait and see cost is 650.432524313653\n"
     ]
    }
   ],
   "source": [
    "cost_scenario = zeros(num_scenarios);\n",
    "facility_WS = zeros(num_facilities, num_scenarios);\n",
    "transport_WS = zeros(num_customers, num_facilities, num_scenarios);\n",
    "unmet_WS = zeros(num_customers, num_scenarios);\n",
    "    \n",
    "for s in 1:num_scenarios\n",
    "    model = Model(() -> Gurobi.Optimizer(GRB_ENV))\n",
    "\n",
    "    @variable(model, x[1:num_facilities], Bin)\n",
    "    @variable(model, a[1:num_facilities] >= 0)  # production at facility j in scenario s\n",
    "    @variable(model, b[1:num_customers] >= 0)   # unmet demand for customer i in scenario s\n",
    "    @variable(model, c[1:num_customers, 1:num_facilities] >= 0)  # quantity shipped\n",
    "\n",
    "    # Capacity constraint: each facility's production cannot exceed its capacity if built\n",
    "    @constraint(model, [j in 1:num_facilities], a[j] <= C_j[j] * x[j])\n",
    "\n",
    "    # Demand satisfaction: each customer's demand must be met by the sum of shipments and unmet demand\n",
    "    @constraint(model, [i in 1:num_customers], sum(c[i, j] for j in 1:num_facilities) + b[i] >= D_is[i, s])\n",
    "\n",
    "    # Production allocation: quantity shipped from facility to customers cannot exceed production\n",
    "    @constraint(model, [j in 1:num_facilities], sum(c[i, j] for i in 1:num_customers) <= a[j])\n",
    "\n",
    "    @objective(model, Min,\n",
    "                sum(c_j[j] * x[j] for j in 1:num_facilities) +\n",
    "                sum(t_ij[i,j] * c[i,j] for j in 1:num_facilities, i in 1:num_customers) +\n",
    "                sum(u_i[i] * b[i] for i in 1:num_customers)) +\n",
    "                sum(q_js[j,s] * a[j] for j in 1:num_facilities)\n",
    "    \n",
    "    optimize!(model)\n",
    "\n",
    "    cost_scenario[s] = objective_value(model);\n",
    "    facility_WS[:,s] = value.(x);\n",
    "    transport_WS[:,:,s] = value.(c);\n",
    "    unmet_WS[:,s] = value.(b);\n",
    "end\n",
    "    \n",
    "exp_cost_WS = sum(p[s] * cost_scenario[s] for s in 1:num_scenarios);\n",
    "println(\"The wait and see cost is \", exp_cost_WS)"
   ]
  },
  {
   "cell_type": "code",
   "execution_count": 91,
   "metadata": {},
   "outputs": [
    {
     "name": "stdout",
     "output_type": "stream",
     "text": [
      "VSS: 0.08823893578293146\n",
      "EVPI: 0.47973146782459775\n"
     ]
    }
   ],
   "source": [
    "VSS = (exp_cost_EV - adaptive_cost)/exp_cost_EV\n",
    "EVPI = (adaptive_cost - exp_cost_WS)/adaptive_cost\n",
    "\n",
    "println(\"VSS: \", VSS)\n",
    "println(\"EVPI: \", EVPI)"
   ]
  }
 ],
 "metadata": {
  "kernelspec": {
   "display_name": "Julia 1.10.5",
   "language": "julia",
   "name": "julia-1.10"
  },
  "language_info": {
   "file_extension": ".jl",
   "mimetype": "application/julia",
   "name": "julia",
   "version": "1.10.5"
  }
 },
 "nbformat": 4,
 "nbformat_minor": 2
}
