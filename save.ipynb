{
 "cells": [
  {
   "cell_type": "code",
   "execution_count": 2,
   "metadata": {},
   "outputs": [],
   "source": [
    "using JuMP\n",
    "using Gurobi\n",
    "using CSV\n",
    "using DataFrames"
   ]
  },
  {
   "cell_type": "code",
   "execution_count": 3,
   "metadata": {},
   "outputs": [
    {
     "name": "stdout",
     "output_type": "stream",
     "text": [
      "Set parameter Username\n",
      "Academic license - for non-commercial use only - expires 2025-09-06\n"
     ]
    }
   ],
   "source": [
    "const GRB_ENV = Gurobi.Env(output_flag=1);"
   ]
  },
  {
   "cell_type": "code",
   "execution_count": 4,
   "metadata": {},
   "outputs": [
    {
     "ename": "LoadError",
     "evalue": "ArgumentError: \"HW3 data/centers.csv\" is not a valid file or doesn't exist",
     "output_type": "error",
     "traceback": [
      "ArgumentError: \"HW3 data/centers.csv\" is not a valid file or doesn't exist",
      "",
      "Stacktrace:",
      " [1] CSV.Context(source::CSV.Arg, header::CSV.Arg, normalizenames::CSV.Arg, datarow::CSV.Arg, skipto::CSV.Arg, footerskip::CSV.Arg, transpose::CSV.Arg, comment::CSV.Arg, ignoreemptyrows::CSV.Arg, ignoreemptylines::CSV.Arg, select::CSV.Arg, drop::CSV.Arg, limit::CSV.Arg, buffer_in_memory::CSV.Arg, threaded::CSV.Arg, ntasks::CSV.Arg, tasks::CSV.Arg, rows_to_check::CSV.Arg, lines_to_check::CSV.Arg, missingstrings::CSV.Arg, missingstring::CSV.Arg, delim::CSV.Arg, ignorerepeated::CSV.Arg, quoted::CSV.Arg, quotechar::CSV.Arg, openquotechar::CSV.Arg, closequotechar::CSV.Arg, escapechar::CSV.Arg, dateformat::CSV.Arg, dateformats::CSV.Arg, decimal::CSV.Arg, groupmark::CSV.Arg, truestrings::CSV.Arg, falsestrings::CSV.Arg, stripwhitespace::CSV.Arg, type::CSV.Arg, types::CSV.Arg, typemap::CSV.Arg, pool::CSV.Arg, downcast::CSV.Arg, lazystrings::CSV.Arg, stringtype::CSV.Arg, strict::CSV.Arg, silencewarnings::CSV.Arg, maxwarnings::CSV.Arg, debug::CSV.Arg, parsingdebug::CSV.Arg, validate::CSV.Arg, streaming::CSV.Arg)",
      "   @ CSV ~/.julia/packages/CSV/cwX2w/src/context.jl:314",
      " [2] #File#32",
      "   @ ~/.julia/packages/CSV/cwX2w/src/file.jl:222 [inlined]",
      " [3] top-level scope",
      "   @ In[4]:1"
     ]
    }
   ],
   "source": [
    "centers = CSV.File(\"HW3 data/centers.csv\",header=0) |> Tables.matrix;\n",
    "stations = CSV.File(\"HW3 data/stations.csv\",header=0) |> Tables.matrix;\n",
    "landfills = CSV.File(\"HW3 data/landfills.csv\",header=0) |> Tables.matrix;\n",
    "q = CSV.File(\"HW3 data/q.csv\",header=0) |> Tables.matrix;\n",
    "\n",
    "centers2 = CSV.File(\"HW3 data/centers2.csv\",header=0) |> Tables.matrix;\n",
    "stations2 = CSV.File(\"HW3 data/stations2.csv\",header=0) |> Tables.matrix;\n",
    "landfills2 = CSV.File(\"HW3 data/landfills2.csv\",header=0) |> Tables.matrix;\n",
    "q2 = CSV.File(\"HW3 data/q2.csv\",header=0) |> Tables.matrix;\n",
    "\n",
    "centers_all = [centers;centers2];\n",
    "stations_all = [stations;stations2];\n",
    "landfills_all = [landfills;landfills2];\n",
    "q_all = [q;q2];\n",
    "\n",
    "n1 = size(centers)[1]\n",
    "s1 = size(stations)[1]\n",
    "m1 = size(landfills)[1]\n",
    "n2 = size(centers2)[1]\n",
    "s2 = size(stations2)[1]\n",
    "m2 = size(landfills2)[1]\n",
    "n_all = n1+n2;\n",
    "s_all = s1+s2;\n",
    "m_all = m1+m2;"
   ]
  },
  {
   "cell_type": "code",
   "execution_count": null,
   "metadata": {},
   "outputs": [],
   "source": [
    "model = Model(Gurobi.Optimizer)\n",
    "\n",
    "k = 5 # number of landfills to build\n",
    "# Calculate distance matrix\n",
    "distances = [sqrt((centers[i, 1] - landfills[j, 1])^2 + (centers[i, 2] - landfills[j, 2])^2) for i in 1:n1, j in 1:m1]\n",
    "distances_center_to_stations = [sqrt((centers[i, 1] - stations[k, 1])^2 + (centers[i, 2] - stations[k, 2])^2)  for i in 1:n1, k in 1:s1]\n",
    "distances_stations_to_landfils = [sqrt((stations[k, 1]- landfills[j, 1])^2 + (stations[k, 2]- landfills[j, 2])^2) for k in 1:s1, j in 1:m1]\n",
    "\n",
    "# Additional Costs\n",
    "station_cost = 10000  # daily operating cost per transfer station\n",
    "compact_cost = 0.50  # per mile-ton cost for compacted waste\n",
    "uncomp_cost = 1.0  # per mile-ton cost for uncompacted waste\n",
    "\n",
    "# Decision Variables from Part A\n",
    "@variable(model, x[1:m1], Bin)   # 1 if landfill j is selected, 0 otherwise\n",
    "@variable(model, y[1:n1, 1:m1] >= 0)  # amount of waste sent from center i to landfill j\n",
    "\n",
    "# Additional Decision Variables\n",
    "# @variable(model, station[1:s1], Bin) # 1 if compact station is builts at location k\n",
    "@variable(model, z[1:s1], Bin)  # 1 if transfer station is built at location j\n",
    "@variable(model, w[1:n1, 1:s1] >= 0)  # waste sent from center i to transfer station k as uncompacted waste\n",
    "@variable(model, t[1:s1, 1:m1] >= 0)  # waste sent from transfer station k to landfill i as compacted waste\n",
    "\n",
    "# Update Objective: Include construction and transportation costs\n",
    "@objective(model, Min, sum(distances[i, j] * y[i, j] * uncomp_cost for i in 1:n1, j in 1:m1) +      # uncompressed distance cost\n",
    "                        sum(distances_center_to_stations[i, k] * w[i, k] * uncomp_cost for i in 1:n1, k in 1:s1) +    # compressed distance cost, on way to station\n",
    "                        sum(distances_stations_to_landfils[k, j] * t[k, j] * compact_cost for k in 1:s1, j in 1:m1) +    # compressed distance cost, on way to landfill\n",
    "                        sum(station_cost * z[k] for k in 1:s1))                                     # station cost\n",
    "\n",
    "# Original Constraints - Part A\n",
    "@constraint(model, sum(x) == k)  # Select exactly k landfills\n",
    "# @constraint(model, [i=1:n1], sum(y[i, j] for j in 1:m1) == q[i])  # Meet waste requirements at each center\n",
    "# @constraint(model, [j=1:m1], sum(y[i, j] for i in 1:n1) <= 100000 * x[j])  # Capacity constraint\n",
    "\n",
    "# Additional Constraints\n",
    "@constraint(model, [i=1:n1], sum(y[i, j] * x[j] for j in 1:m1) + sum(w[i, k] * z[k] for k in 1:s1) == q[i])  # Waste from each center\n",
    "@constraint(model, [k=1:s1], sum(w[i, k] for i in 1:n1) <= 2000 * z[k])  # Transfer station capacity\n",
    "# @constraint(model, [j=1:s1, k=1:m1], t[j, k] <= 2000 * z[j])  # Compacted waste limits\n",
    "@constraint(model, [k=1:s1], sum(w[i, k] * z[k] for i in 1:n1) == sum(t[k, i] * z[k] for i in 1:m1))\n",
    "\n",
    "# Solve\n",
    "optimize!(model)\n",
    "\n",
    "# Results\n",
    "selected_landfills = [j for j in 1:m1 if value(x[j]) > 0.5]\n",
    "total_cost = objective_value(model)\n",
    "selected_transfer_stations = [j for j in 1:s1 if value(z[j]) > 0.5]\n",
    "\n",
    "# calculate distances of trash that either went to center or didnt\n",
    "distance_c_s = sum(value(distances_center_to_stations[i, j]) for i in 1:n1, j in 1:s1 if value(z[j]) > 0.5)\n",
    "distances_s_l = sum(value(distances_stations_to_landfils[i,j]) for i in 1:s1, j in 1:m1 if value(z[i])>0.5)\n",
    "ditances_none =  sum(value(distances[i, j]) for i in 1:n1, j in 1:m1)\n",
    "distance_traveled_by_waste = distance_c_s + distances_s_l + ditances_none\n",
    "\n",
    "println(\"Selected Landfills: \", selected_landfills)\n",
    "println(\"Total Cost: \", total_cost)\n",
    "println(\"Selected Transfer Stations: \", selected_transfer_stations)\n",
    "println(\"Distance Traveled by Waste: \", distance_traveled_by_waste)"
   ]
  }
 ],
 "metadata": {
  "kernelspec": {
   "display_name": "Julia 1.10.5",
   "language": "julia",
   "name": "julia-1.10"
  },
  "language_info": {
   "file_extension": ".jl",
   "mimetype": "application/julia",
   "name": "julia",
   "version": "1.10.5"
  }
 },
 "nbformat": 4,
 "nbformat_minor": 2
}
