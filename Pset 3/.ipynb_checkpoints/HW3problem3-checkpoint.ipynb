{
 "cells": [
  {
   "cell_type": "code",
   "execution_count": 20,
   "id": "eceba53f-d89f-49ff-90fc-d2c493700d48",
   "metadata": {},
   "outputs": [],
   "source": [
    "using JuMP\n",
    "using Gurobi\n",
    "using CSV\n",
    "using DataFrames"
   ]
  },
  {
   "cell_type": "code",
   "execution_count": 21,
   "id": "5aa64789-0afb-4d0e-9432-13a8faee063d",
   "metadata": {},
   "outputs": [
    {
     "name": "stdout",
     "output_type": "stream",
     "text": [
      "Set parameter Username\n",
      "Academic license - for non-commercial use only - expires 2025-09-06\n"
     ]
    },
    {
     "name": "stderr",
     "output_type": "stream",
     "text": [
      "WARNING: redefinition of constant Main.GRB_ENV. This may fail, cause incorrect answers, or produce other errors.\n"
     ]
    }
   ],
   "source": [
    "const GRB_ENV = Gurobi.Env(output_flag=1);"
   ]
  },
  {
   "cell_type": "markdown",
   "id": "9d5b1287-465f-4def-80ae-69c3ad5f3860",
   "metadata": {},
   "source": [
    "### Data importation"
   ]
  },
  {
   "cell_type": "code",
   "execution_count": 72,
   "id": "a780ed26-4884-464f-802e-bc19100104b8",
   "metadata": {},
   "outputs": [],
   "source": [
    "centers = CSV.File(\"HW3 data/centers.csv\",header=0) |> Tables.matrix;\n",
    "stations = CSV.File(\"HW3 data/stations.csv\",header=0) |> Tables.matrix;\n",
    "landfills = CSV.File(\"HW3 data/landfills.csv\",header=0) |> Tables.matrix;\n",
    "q = CSV.File(\"HW3 data/q.csv\",header=0) |> Tables.matrix;\n",
    "\n",
    "centers2 = CSV.File(\"HW3 data/centers2.csv\",header=0) |> Tables.matrix;\n",
    "stations2 = CSV.File(\"HW3 data/stations2.csv\",header=0) |> Tables.matrix;\n",
    "landfills2 = CSV.File(\"HW3 data/landfills2.csv\",header=0) |> Tables.matrix;\n",
    "q2 = CSV.File(\"HW3 data/q2.csv\",header=0) |> Tables.matrix;\n",
    "\n",
    "centers_all = [centers;centers2];\n",
    "stations_all = [stations;stations2];\n",
    "landfills_all = [landfills;landfills2];\n",
    "q_all = [q;q2];\n",
    "\n",
    "n1 = size(centers)[1]\n",
    "s1 = size(stations)[1]\n",
    "m1 = size(landfills)[1]\n",
    "n2 = size(centers2)[1]\n",
    "s2 = size(stations2)[1]\n",
    "m2 = size(landfills2)[1]\n",
    "n_all = n1+n2;\n",
    "s_all = s1+s2;\n",
    "m_all = m1+m2;"
   ]
  },
  {
   "cell_type": "markdown",
   "id": "0f7cd55f",
   "metadata": {},
   "source": [
    "### Part A\n",
    "\n",
    "Choose which 5 of 15 landfills to build to minimize transportation costs of driving (distances from centers to landfills)"
   ]
  },
  {
   "cell_type": "code",
   "execution_count": 57,
   "id": "5bcb1cec",
   "metadata": {},
   "outputs": [
    {
     "name": "stdout",
     "output_type": "stream",
     "text": [
      "50\n",
      "15\n",
      "Set parameter Username\n",
      "Academic license - for non-commercial use only - expires 2025-09-06\n",
      "Gurobi Optimizer version 11.0.2 build v11.0.2rc0 (mac64[arm] - Darwin 24.0.0 24A348)\n",
      "\n",
      "CPU model: Apple M2 Max\n",
      "Thread count: 12 physical cores, 12 logical processors, using up to 12 threads\n",
      "\n",
      "Optimize a model with 1 rows, 765 columns and 15 nonzeros\n",
      "Model fingerprint: 0x6535e513\n",
      "Model has 50 quadratic constraints\n",
      "Variable types: 750 continuous, 15 integer (15 binary)\n",
      "Coefficient statistics:\n",
      "  Matrix range     [1e+00, 1e+00]\n",
      "  QMatrix range    [1e+00, 1e+00]\n",
      "  Objective range  [2e+00, 1e+02]\n",
      "  Bounds range     [0e+00, 0e+00]\n",
      "  RHS range        [5e+00, 5e+00]\n",
      "  QRHS range       [5e+02, 2e+03]\n",
      "Presolve time: 0.00s\n",
      "Presolved: 1551 rows, 3015 columns, 4515 nonzeros\n",
      "Presolved model has 1500 SOS constraint(s)\n",
      "Variable types: 2250 continuous, 765 integer (765 binary)\n",
      "Found heuristic solution: objective 1177706.7451\n",
      "\n",
      "Root relaxation: objective 8.404875e+05, 146 iterations, 0.00 seconds (0.00 work units)\n",
      "\n",
      "    Nodes    |    Current Node    |     Objective Bounds      |     Work\n",
      " Expl Unexpl |  Obj  Depth IntInf | Incumbent    BestBd   Gap | It/Node Time\n",
      "\n",
      "*    0     0               0    840487.52400 840487.524  0.00%     -    0s\n",
      "\n",
      "Explored 1 nodes (146 simplex iterations) in 0.03 seconds (0.05 work units)\n",
      "Thread count was 12 (of 12 available processors)\n",
      "\n",
      "Solution count 2: 840488 1.17771e+06 \n",
      "\n",
      "Optimal solution found (tolerance 1.00e-04)\n",
      "Best objective 8.404875240013e+05, best bound 8.404875240013e+05, gap 0.0000%\n",
      "\n",
      "User-callback calls 164, time in user-callback 0.00 sec\n",
      "Selected Landfills: [3, 4, 7, 13, 14]\n",
      "Total Distance Traveled: 840487.5240012797\n"
     ]
    }
   ],
   "source": [
    "k = 5 # number of landfills to build\n",
    "\n",
    "# Calculate distance matrix\n",
    "distances = [sqrt((centers[i, 1] - landfills[j, 1])^2 + (centers[i, 2] - landfills[j, 2])^2) for i in 1:n1, j in 1:m1]\n",
    "\n",
    "# Define model\n",
    "model = Model(Gurobi.Optimizer)\n",
    "\n",
    "# Decision Variables\n",
    "@variable(model, x[1:m1], Bin)   # 1 if landfill j is selected, 0 otherwise\n",
    "@variable(model, y[1:n1, 1:m1] >= 0)  # amount of waste sent from center i to landfill j\n",
    "\n",
    "# Objective: Minimize transportation cost\n",
    "@objective(model, Min, sum(distances[i, j] * y[i, j] for i in 1:n1, j in 1:m1))\n",
    "\n",
    "# Constraints\n",
    "@constraint(model, sum(x) == k)  # Select exactly k landfills\n",
    "@constraint(model, [i=1:n1], sum(y[i, j] * x[j] for j in 1:m1) == q[i])  # Meet waste requirements at each center\n",
    "\n",
    "optimize!(model)\n",
    "\n",
    "# Results\n",
    "selected_landfills = [j for j in 1:m1 if value(x[j]) > 0.5]\n",
    "total_distance = objective_value(model)\n",
    "println(\"Selected Landfills: \", selected_landfills)\n",
    "println(\"Total Distance Traveled: \", total_distance)"
   ]
  },
  {
   "cell_type": "markdown",
   "id": "7a6e0e5f",
   "metadata": {},
   "source": [
    "### Parts B and C - Transfer Stations Added"
   ]
  },
  {
   "cell_type": "markdown",
   "id": "750ddc3c",
   "metadata": {},
   "source": [
    "## Part B - Find optimal 5 locations given that waste can optionally be compacted at stations in stations.csv\n",
    "\n",
    "f(5, 0)\n",
    "\n",
    "## Part C - Adding neighboring region\n",
    "**Part 1, same as part B but using centers2, landfils2, stations2**\n",
    "\n",
    "f(5, 1)\n",
    "\n",
    "**Part 2, combining both regions**\n",
    "\n",
    "f(10, 2)"
   ]
  },
  {
   "cell_type": "code",
   "execution_count": 123,
   "id": "65c240e7",
   "metadata": {},
   "outputs": [
    {
     "data": {
      "text/plain": [
       "f"
      ]
     },
     "execution_count": 123,
     "metadata": {},
     "output_type": "execute_result"
    }
   ],
   "source": [
    "\"\"\"\n",
    "f(number_landfills, neighbor)\n",
    "num_landfills - int representing how many landfills to optimize for\n",
    "neighbor - selection of which problem to solve using the vals listed below:\n",
    "    0 - original problem for landfills in x = [0,100]\n",
    "    1 - neighboring region for landfills in x = [100,200]\n",
    "    2 - both regions combined\n",
    "\"\"\"\n",
    "function f(num_landfills::Int=5, neighbor::Int=0)\n",
    "    cent = centers\n",
    "    land = landfills\n",
    "    stat = stations\n",
    "    trash_amnts = q\n",
    "    s = s1\n",
    "    n = n1\n",
    "    m = m1\n",
    "    if neighbor == 1 # only conseder neighboring area\n",
    "        cent = centers2\n",
    "        land = landfills2\n",
    "        stat = stations2\n",
    "        trash_amnts = q2\n",
    "        s = s2\n",
    "        n = n2\n",
    "        m = m2\n",
    "    elseif neighbor == 2 # both areas\n",
    "        cent = centers_all\n",
    "        land = landfills_all\n",
    "        stat = stations_all\n",
    "        trash_amnts = q_all\n",
    "        s = s_all\n",
    "        n = n_all\n",
    "        m = m_all\n",
    "    else\n",
    "    end\n",
    "    model = Model(Gurobi.Optimizer)\n",
    "\n",
    "    # Calculate distance matrices\n",
    "    distances = [sqrt((cent[i, 1] - land[j, 1])^2 + (cent[i, 2] - land[j, 2])^2) for i in 1:n, j in 1:m]\n",
    "    distances_center_to_stations = [sqrt((cent[i, 1] - stat[k, 1])^2 + (cent[i, 2] - stat[k, 2])^2)  for i in 1:n, k in 1:s]\n",
    "    distances_stations_to_landfils = [sqrt((stat[k, 1]- land[j, 1])^2 + (stat[k, 2]- land[j, 2])^2) for k in 1:s, j in 1:m]\n",
    "\n",
    "    # Additional Costs\n",
    "    station_cost = 10000  # daily operating cost per transfer station\n",
    "    compact_cost = 0.50  # per mile-ton cost for compacted waste\n",
    "    uncomp_cost = 1.0  # per mile-ton cost for uncompacted waste\n",
    "\n",
    "    # Decision Variables from Part A\n",
    "    @variable(model, x[1:m], Bin)   # 1 if landfill j is selected, 0 otherwise\n",
    "    @variable(model, y[1:n, 1:m] >= 0)  # amount of waste sent from center i to landfill j\n",
    "\n",
    "    # Additional Decision Variables\n",
    "    @variable(model, z[1:s], Bin)  # 1 if transfer station is built at location k\n",
    "    @variable(model, w[1:n, 1:s] >= 0)  # waste sent from center i to transfer station k as uncompacted waste\n",
    "    @variable(model, t[1:s, 1:m] >= 0)  # waste sent from transfer station k to landfill i as compacted waste\n",
    "\n",
    "    # new objective: sum of cost of not compressing + cost of traveling to be compressed + cost of traveling after compressed + cost of station maintinance\n",
    "    @objective(model, Min, sum(distances[i, j] * y[i, j] * uncomp_cost for i in 1:n, j in 1:m) +  # uncompressed distance cost\n",
    "                            sum(distances_center_to_stations[i, k] * w[i, k] * uncomp_cost for i in 1:n, k in 1:s) +  # uncompressed distance cost, on way to station\n",
    "                            sum(distances_stations_to_landfils[k, j] * t[k, j] * compact_cost for k in 1:s, j in 1:m) +   # compressed distance cost, on way to landfill\n",
    "                            sum(station_cost * z[k] for k in 1:s)) # station cost\n",
    "\n",
    "    # Original Constraints - Part A\n",
    "    @constraint(model, sum(x) == num_landfills)  # Select exactly k landfills\n",
    "\n",
    "    # Additional Constraints\n",
    "\n",
    "    # Waste from each center must be entirely taken away (either to landfill or transfer station)\n",
    "    @constraint(model, [i=1:n], sum(y[i, j] * x[j] for j in 1:m) + sum(w[i, k] * z[k] for k in 1:s) == trash_amnts[i])\n",
    "    # Transfer station capacity\n",
    "    @constraint(model, [k=1:s], sum(w[i, k] for i in 1:n) <= 2000 * z[k])\n",
    "    # No lingering trash in transfer stations at the end of the day\n",
    "    @constraint(model, [k=1:s], sum(w[i, k] * z[k] for i in 1:n) == sum(t[k, i] * z[k] for i in 1:m))\n",
    "\n",
    "    optimize!(model)\n",
    "\n",
    "    # Results\n",
    "    selected_landfills = [j for j in 1:m if value(x[j]) == 1]\n",
    "    total_cost = objective_value(model)\n",
    "    selected_transfer_stations = [j for j in 1:s if value(z[j]) == 1]\n",
    "\n",
    "    # calculate sum of all possible distances the trash could have taken\n",
    "    distance_c_s = sum(value(distances_center_to_stations[i, k]) for i in 1:n, k in 1:s if value(z[k]) > 0.5) # distances from centers to sations\n",
    "    distances_s_l = sum(value(distances_stations_to_landfils[k,j]) for k in 1:s, j in 1:m if value(z[k])>0.5) # distances from stations to landfills\n",
    "    ditances_none =  sum(value(distances[i, j]) for i in 1:n, j in 1:m) # distances straight from centers to landfills\n",
    "    distance_traveled_by_waste = distance_c_s + distances_s_l + ditances_none\n",
    "\n",
    "    println(\"Selected Landfills: \", selected_landfills)\n",
    "    println(\"Total Cost: \", total_cost)\n",
    "    println(\"Selected Transfer Stations: \", selected_transfer_stations)\n",
    "    println(\"Distance Traveled by Waste: \", distance_traveled_by_waste)\n",
    "\n",
    "    return total_cost\n",
    "end"
   ]
  },
  {
   "cell_type": "markdown",
   "id": "01f368e0",
   "metadata": {},
   "source": [
    "### Funciton Calls to solve B, C"
   ]
  },
  {
   "cell_type": "code",
   "execution_count": 124,
   "id": "fa45845a",
   "metadata": {},
   "outputs": [
    {
     "name": "stdout",
     "output_type": "stream",
     "text": [
      "Set parameter Username\n",
      "Academic license - for non-commercial use only - expires 2025-09-06\n",
      "Gurobi Optimizer version 11.0.2 build v11.0.2rc0 (mac64[arm] - Darwin 24.0.0 24A348)\n",
      "\n",
      "CPU model: Apple M2 Max\n",
      "Thread count: 12 physical cores, 12 logical processors, using up to 12 threads\n",
      "\n",
      "Optimize a model with 51 rows, 4065 columns and 2565 nonzeros\n",
      "Model fingerprint: 0x2ab12767\n",
      "Model has 100 quadratic constraints\n",
      "Variable types: 4000 continuous, 65 integer (65 binary)\n",
      "Coefficient statistics:\n",
      "  Matrix range     [1e+00, 2e+03]\n",
      "  QMatrix range    [1e+00, 1e+00]\n",
      "  Objective range  [1e+00, 1e+04]\n",
      "  Bounds range     [0e+00, 0e+00]\n",
      "  RHS range        [5e+00, 5e+00]\n",
      "  QRHS range       [5e+02, 2e+03]\n",
      "Presolve time: 0.01s\n",
      "Presolved: 8351 rows, 16265 columns, 32665 nonzeros\n",
      "Presolved model has 8100 SOS constraint(s)\n",
      "Variable types: 12100 continuous, 4165 integer (4115 binary)\n",
      "Found heuristic solution: objective 880958.54527\n",
      "\n",
      "Root relaxation: objective 7.444846e+05, 412 iterations, 0.01 seconds (0.01 work units)\n",
      "\n",
      "    Nodes    |    Current Node    |     Objective Bounds      |     Work\n",
      " Expl Unexpl |  Obj  Depth IntInf | Incumbent    BestBd   Gap | It/Node Time\n",
      "\n",
      "     0     0 744484.551    0   10 880958.545 744484.551  15.5%     -    0s\n",
      "H    0     0                    785554.76394 744484.551  5.23%     -    0s\n",
      "H    0     0                    779178.45448 744484.551  4.45%     -    0s\n",
      "H    0     0                    778552.44705 744484.551  4.38%     -    0s\n",
      "H    0     0                    764144.04274 744484.551  2.57%     -    0s\n",
      "H    0     0                    751303.91449 747195.360  0.55%     -    0s\n",
      "     0     0 747195.360    0    8 751303.914 747195.360  0.55%     -    0s\n",
      "     0     0 748026.040    0   16 751303.914 748026.040  0.44%     -    0s\n",
      "     0     0 748026.040    0   16 751303.914 748026.040  0.44%     -    0s\n",
      "     0     0 749197.171    0   18 751303.914 749197.171  0.28%     -    0s\n",
      "     0     0 749794.892    0   17 751303.914 749794.892  0.20%     -    0s\n",
      "H    0     0                    750573.56137 749794.892  0.10%     -    0s\n",
      "     0     0 749794.892    0   13 750573.561 749794.892  0.10%     -    0s\n",
      "\n",
      "Cutting planes:\n",
      "  Lift-and-project: 1\n",
      "  MIR: 22\n",
      "  Flow cover: 3\n",
      "\n",
      "Explored 1 nodes (498 simplex iterations) in 0.30 seconds (0.40 work units)\n",
      "Thread count was 12 (of 12 available processors)\n",
      "\n",
      "Solution count 7: 750574 751304 764144 ... 880959\n",
      "\n",
      "Optimal solution found (tolerance 1.00e-04)\n",
      "Best objective 7.505735613691e+05, best bound 7.505141674587e+05, gap 0.0079%\n",
      "\n",
      "User-callback calls 273, time in user-callback 0.00 sec\n",
      "Selected Landfills: [2, 3, 5, 7, 11]\n",
      "Total Cost: 750573.5613690964\n",
      "Selected Transfer Stations: [4, 6, 14, 20, 21, 23, 29, 31, 32, 34, 39, 45]\n",
      "Distance Traveled by Waste: 76972.55807377936\n"
     ]
    },
    {
     "data": {
      "text/plain": [
       "750573.5613690964"
      ]
     },
     "execution_count": 124,
     "metadata": {},
     "output_type": "execute_result"
    }
   ],
   "source": [
    "f(5, 0) # part B"
   ]
  },
  {
   "cell_type": "code",
   "execution_count": 125,
   "id": "f087aa9b",
   "metadata": {},
   "outputs": [
    {
     "name": "stdout",
     "output_type": "stream",
     "text": [
      "Set parameter Username\n",
      "Academic license - for non-commercial use only - expires 2025-09-06\n",
      "Gurobi Optimizer version 11.0.2 build v11.0.2rc0 (mac64[arm] - Darwin 24.0.0 24A348)\n",
      "\n",
      "CPU model: Apple M2 Max\n",
      "Thread count: 12 physical cores, 12 logical processors, using up to 12 threads\n",
      "\n",
      "Optimize a model with 51 rows, 3415 columns and 2065 nonzeros\n",
      "Model fingerprint: 0x38651aec\n",
      "Model has 90 quadratic constraints\n",
      "Variable types: 3350 continuous, 65 integer (65 binary)\n",
      "Coefficient statistics:\n",
      "  Matrix range     [1e+00, 2e+03]\n",
      "  QMatrix range    [1e+00, 1e+00]\n",
      "  Objective range  [1e-01, 1e+04]\n",
      "  Bounds range     [0e+00, 0e+00]\n",
      "  RHS range        [5e+00, 5e+00]\n",
      "  QRHS range       [1e+03, 3e+03]\n",
      "Presolve time: 0.01s\n",
      "Presolved: 7041 rows, 13665 columns, 27265 nonzeros\n",
      "Presolved model has 6800 SOS constraint(s)\n",
      "Variable types: 10150 continuous, 3515 integer (3465 binary)\n",
      "Found heuristic solution: objective 1194160.9599\n",
      "\n",
      "Root relaxation: objective 1.003254e+06, 356 iterations, 0.01 seconds (0.01 work units)\n",
      "\n",
      "    Nodes    |    Current Node    |     Objective Bounds      |     Work\n",
      " Expl Unexpl |  Obj  Depth IntInf | Incumbent    BestBd   Gap | It/Node Time\n",
      "\n",
      "     0     0 1003254.45    0   13 1194160.96 1003254.45  16.0%     -    0s\n",
      "H    0     0                    1050465.8159 1003254.45  4.49%     -    0s\n",
      "H    0     0                    1027799.8217 1003254.45  2.39%     -    0s\n",
      "     0     0 1009059.07    0   17 1027799.82 1009059.07  1.82%     -    0s\n",
      "H    0     0                    1027285.7558 1018993.28  0.81%     -    0s\n",
      "     0     0 1021688.01    0   13 1027285.76 1021688.01  0.54%     -    0s\n",
      "     0     0 1022322.85    0   14 1027285.76 1022322.85  0.48%     -    0s\n",
      "H    0     0                    1027107.7774 1022322.85  0.47%     -    0s\n",
      "     0     0 1024578.15    0   21 1027107.78 1024578.15  0.25%     -    0s\n",
      "     0     0 1025917.74    0   19 1027107.78 1025917.74  0.12%     -    0s\n",
      "H    0     0                    1027032.8487 1025917.74  0.11%     -    0s\n",
      "     0     0 1026290.98    0   20 1027032.85 1026290.98  0.07%     -    0s\n",
      "     0     0 1026344.79    0   20 1027032.85 1026344.79  0.07%     -    0s\n",
      "\n",
      "Cutting planes:\n",
      "  Lift-and-project: 3\n",
      "  MIR: 20\n",
      "  Flow cover: 9\n",
      "\n",
      "Explored 1 nodes (445 simplex iterations) in 0.25 seconds (0.31 work units)\n",
      "Thread count was 12 (of 12 available processors)\n",
      "\n",
      "Solution count 4: 1.02703e+06 1.02729e+06 1.05047e+06 1.19416e+06 \n",
      "\n",
      "Optimal solution found (tolerance 1.00e-04)\n",
      "Best objective 1.027032848738e+06, best bound 1.027032848738e+06, gap 0.0000%\n",
      "\n",
      "User-callback calls 275, time in user-callback 0.00 sec\n",
      "Selected Landfills: [2, 6, 9, 13, 15]\n",
      "Total Cost: 1.0270328487382131e6\n",
      "Selected Transfer Stations: [1, 10, 14, 15, 19, 24, 26, 32, 44, 47, 49]\n",
      "Distance Traveled by Waste: 60733.879219718896\n"
     ]
    },
    {
     "data": {
      "text/plain": [
       "1.0270328487382131e6"
      ]
     },
     "execution_count": 125,
     "metadata": {},
     "output_type": "execute_result"
    }
   ],
   "source": [
    "f(5, 1) # part C, neighboring region only problem"
   ]
  },
  {
   "cell_type": "code",
   "execution_count": 126,
   "id": "d8c5ee92",
   "metadata": {},
   "outputs": [
    {
     "name": "stdout",
     "output_type": "stream",
     "text": [
      "Set parameter Username\n",
      "Academic license - for non-commercial use only - expires 2025-09-06\n",
      "Gurobi Optimizer version 11.0.2 build v11.0.2rc0 (mac64[arm] - Darwin 24.0.0 24A348)\n",
      "\n",
      "CPU model: Apple M2 Max\n",
      "Thread count: 12 physical cores, 12 logical processors, using up to 12 threads\n",
      "\n",
      "Optimize a model with 101 rows, 14830 columns and 9130 nonzeros\n",
      "Model fingerprint: 0xecacc297\n",
      "Model has 190 quadratic constraints\n",
      "Variable types: 14700 continuous, 130 integer (130 binary)\n",
      "Coefficient statistics:\n",
      "  Matrix range     [1e+00, 2e+03]\n",
      "  QMatrix range    [1e+00, 1e+00]\n",
      "  Objective range  [1e-01, 1e+04]\n",
      "  Bounds range     [0e+00, 0e+00]\n",
      "  RHS range        [1e+01, 1e+01]\n",
      "  QRHS range       [5e+02, 3e+03]\n",
      "Presolve time: 0.02s\n",
      "Presolved: 30091 rows, 59330 columns, 119030 nonzeros\n",
      "Presolved model has 29600 SOS constraint(s)\n",
      "Variable types: 44300 continuous, 15030 integer (14930 binary)\n",
      "Found heuristic solution: objective 2166119.1928\n",
      "\n",
      "Root relaxation: objective 1.680657e+06, 779 iterations, 0.03 seconds (0.07 work units)\n",
      "\n",
      "    Nodes    |    Current Node    |     Objective Bounds      |     Work\n",
      " Expl Unexpl |  Obj  Depth IntInf | Incumbent    BestBd   Gap | It/Node Time\n",
      "\n",
      "     0     0 1680656.99    0   20 2166119.19 1680656.99  22.4%     -    0s\n",
      "H    0     0                    1740151.8668 1680656.99  3.42%     -    1s\n",
      "H    0     0                    1733142.2100 1680656.99  3.03%     -    1s\n",
      "     0     0 1685198.88    0   24 1733142.21 1685198.88  2.77%     -    1s\n",
      "H    0     0                    1717816.3274 1685733.65  1.87%     -    1s\n",
      "     0     0 1685733.65    0   24 1717816.33 1685733.65  1.87%     -    1s\n",
      "H    0     0                    1704271.0297 1685733.65  1.09%     -    1s\n",
      "     0     0 1688167.07    0   24 1704271.03 1688167.07  0.94%     -    1s\n",
      "H    0     0                    1702143.0784 1688601.25  0.80%     -    1s\n",
      "     0     0 1688601.25    0   26 1702143.08 1688601.25  0.80%     -    1s\n",
      "H    0     0                    1693720.0233 1688601.25  0.30%     -    1s\n",
      "H    0     0                    1692426.2788 1688601.25  0.23%     -    1s\n",
      "     0     0 1689307.76    0   11 1692426.28 1689307.76  0.18%     -    1s\n",
      "     0     0 1689307.76    0   10 1692426.28 1689307.76  0.18%     -    1s\n",
      "     0     0 1689629.82    0   11 1692426.28 1689629.82  0.17%     -    1s\n",
      "H    0     0                    1691447.9916 1689629.82  0.11%     -    1s\n",
      "H    0     0                    1691320.2179 1689629.82  0.10%     -    1s\n",
      "H    0     0                    1691058.4666 1690326.51  0.04%     -    1s\n",
      "H    0     0                    1690930.6930 1690326.51  0.04%     -    1s\n",
      "     0     0 1690326.51    0   14 1690930.69 1690326.51  0.04%     -    1s\n",
      "     0     0 1690326.51    0   16 1690930.69 1690326.51  0.04%     -    1s\n",
      "     0     0 1690326.51    0   13 1690930.69 1690326.51  0.04%     -    1s\n",
      "     0     0 1690326.51    0   15 1690930.69 1690326.51  0.04%     -    1s\n",
      "     0     0 1690326.51    0   12 1690930.69 1690326.51  0.04%     -    1s\n",
      "     0     0 1690326.51    0   12 1690930.69 1690326.51  0.04%     -    1s\n",
      "     0     0 1690326.51    0   17 1690930.69 1690326.51  0.04%     -    1s\n",
      "     0     0 1690326.51    0   14 1690930.69 1690326.51  0.04%     -    1s\n",
      "     0     0 1690326.51    0   11 1690930.69 1690326.51  0.04%     -    1s\n",
      "     0     0 1690326.51    0    9 1690930.69 1690326.51  0.04%     -    1s\n",
      "     0     0 1690326.51    0   14 1690930.69 1690326.51  0.04%     -    1s\n",
      "     0     0 1690326.51    0   17 1690930.69 1690326.51  0.04%     -    1s\n",
      "     0     0 1690326.51    0   14 1690930.69 1690326.51  0.04%     -    1s\n",
      "     0     0 1690553.70    0    5 1690930.69 1690553.70  0.02%     -    1s\n",
      "     0     0 1690574.70    0    1 1690930.69 1690574.70  0.02%     -    1s\n",
      "     0     0 1690574.70    0    1 1690930.69 1690574.70  0.02%     -    1s\n",
      "     0     0 1690574.70    0    1 1690930.69 1690574.70  0.02%     -    1s\n",
      "\n",
      "Cutting planes:\n",
      "  MIR: 3\n",
      "  Flow cover: 1\n",
      "\n",
      "Explored 1 nodes (1749 simplex iterations) in 1.80 seconds (2.36 work units)\n",
      "Thread count was 12 (of 12 available processors)\n",
      "\n",
      "Solution count 10: 1.69093e+06 1.69106e+06 1.69132e+06 ... 1.71782e+06\n",
      "\n",
      "Optimal solution found (tolerance 1.00e-04)\n",
      "Best objective 1.690930692961e+06, best bound 1.690930692961e+06, gap 0.0000%\n",
      "\n",
      "User-callback calls 592, time in user-callback 0.00 sec\n",
      "Selected Landfills: [2, 3, 7, 16, 17, 21, 23, 24, 28, 30]\n",
      "Total Cost: 1.6909306929608872e6\n",
      "Selected Transfer Stations: [4, 6, 10, 14, 23, 29, 30, 32, 33, 34, 38, 39, 45, 60, 65, 69, 74, 82]\n",
      "Distance Traveled by Waste: 383075.8225913942\n"
     ]
    },
    {
     "data": {
      "text/plain": [
       "1.6909306929608872e6"
      ]
     },
     "execution_count": 126,
     "metadata": {},
     "output_type": "execute_result"
    }
   ],
   "source": [
    "f(10, 2) # part C, both regions combined"
   ]
  },
  {
   "cell_type": "markdown",
   "id": "7c821980",
   "metadata": {},
   "source": [
    "# Calculating Improvements by joining the two regions together"
   ]
  },
  {
   "cell_type": "code",
   "execution_count": 132,
   "id": "154d0cf8",
   "metadata": {},
   "outputs": [
    {
     "name": "stdout",
     "output_type": "stream",
     "text": [
      "Saved 86675.71714642225 in daily costs\n",
      "Region 1 produces 48803.17 tons of waste daily\n",
      "Region 2 produces 78624.9 tons of waste daily\n",
      "Combined, the produce 127428.06999999999 tons of trash daily, meaning region 1 pays 647602.8246114689 of the daily costs and region 2 pays 1.0433278683494184e6 of the daily costs\n",
      "Region 1 saves 570630.2665376896 and region 2 saves 16295.019611205324 in daily costs\n"
     ]
    }
   ],
   "source": [
    "combined_costs = 750573.5613690964 + 1.0270328487382131e6\n",
    "\n",
    "money_saved = combined_costs - 1690930.6929608872\n",
    "println(\"Saved \", money_saved, \" in daily costs\")\n",
    "\n",
    "# waste generated in each region\n",
    "waste_1 = sum(q)\n",
    "waste_2 = sum(q2)\n",
    "println(\"Region 1 produces \", waste_1, \" tons of waste daily\")\n",
    "println(\"Region 2 produces \", waste_2, \" tons of waste daily\")\n",
    "\n",
    "total_waste = waste_1+waste_2\n",
    "reg1_cost = (waste_1/(waste_1+waste_2)) * 1.6909306929608872e6\n",
    "reg2_cost = (waste_2/(waste_1+waste_2)) * 1.6909306929608872e6\n",
    "println(\"Combined, the produce \", total_waste, \" tons of trash daily, meaning region 1 pays \", reg1_cost, \" of the daily costs and region 2 pays \", reg2_cost, \" of the daily costs\")\n",
    "println(\"Region 1 saves \", reg1_cost-76972.55807377936, \" and region 2 saves \", reg2_cost - 1.0270328487382131e6, \" in daily costs\")"
   ]
  }
 ],
 "metadata": {
  "kernelspec": {
   "display_name": "Julia 1.10.5",
   "language": "julia",
   "name": "julia-1.10"
  },
  "language_info": {
   "file_extension": ".jl",
   "mimetype": "application/julia",
   "name": "julia",
   "version": "1.10.5"
  }
 },
 "nbformat": 4,
 "nbformat_minor": 5
}
